{
 "cells": [
  {
   "cell_type": "markdown",
   "metadata": {},
   "source": [
    "# Chương 7: Trực quan hóa Dữ liệu với Plotly\n",
    "## Trực quan hóa Dữ liệu với Plotly\n",
    "Chương này sẽ hướng dẫn cách sử dụng thư viện Plotly để tạo các biểu đồ tương tác trong Python, từ những biểu đồ cơ bản đến nâng cao. Nội dung chương có thể được tổ chức thành các phần sau:\n",
    "\n",
    "## 7.1 Giới thiệu về Plotly\n",
    "\n",
    "Plotly là một thư viện mã nguồn mở giúp tạo ra các biểu đồ tương tác đẹp mắt và dễ sử dụng trong Python. Nó hỗ trợ nhiều loại biểu đồ khác nhau và cho phép xuất biểu đồ dưới dạng HTML hoặc hình ảnh.\n",
    "\n",
    "**Lợi ích của việc sử dụng Plotly:**\n",
    "\n",
    "- **Tính tương tác cao**: Người dùng có thể tương tác với biểu đồ (zoom, di chuyển, hover, click).\n",
    "\n",
    "- **Hỗ trợ nhiều loại biểu đồ**: Bao gồm biểu đồ đường, cột, phân tán, hộp, bản đồ, biểu đồ 3D, và nhiều loại khác.\n",
    "\n",
    "- **Khả năng xuất biểu đồ**: Plotly hỗ trợ xuất biểu đồ dưới dạng HTML hoặc hình ảnh.\n",
    "\n",
    "**Cách cài đặt và thiết lập**:\n",
    "\n",
    "```bash\n",
    "pip install plotly\n",
    "```\n",
    "\n",
    "**Để xuất biểu đồ dưới dạng hình ảnh, bạn cần cài thêm kaleido**:\n",
    "\n",
    "```bash\n",
    "pip install kaleido\n",
    "```\n",
    "\n",
    "## 7.2 Tạo Biểu Đồ Cơ Bản với Plotly\n",
    "\n",
    "**7.2.1 Biểu đồ đường (Line Chart):**\n",
    "\n",
    "- Biểu đồ đường giúp bạn trực quan hóa sự thay đổi của một biến theo thời gian hoặc các giá trị liên tục."
   ]
  },
  {
   "cell_type": "code",
   "execution_count": null,
   "metadata": {
    "vscode": {
     "languageId": "plaintext"
    }
   },
   "outputs": [],
   "source": [
    "import matplotlib.pyplot as plt\n",
    "\n",
    "# Tạo biểu đồ đường\n",
    "x = [1, 2, 3, 4]\n",
    "y = [10, 20, 25, 30]\n",
    "plt.plot(x, y)\n",
    "plt.title(\"Line Chart Example\")\n",
    "plt.xlabel(\"X-axis\")\n",
    "plt.ylabel(\"Y-axis\")\n",
    "plt.show()"
   ]
  },
  {
   "cell_type": "markdown",
   "metadata": {},
   "source": [
    "**Chú thích:**\n",
    "\n",
    "- go.Figure(): Tạo một đối tượng Figure.\n",
    "- go.Scatter(): Dùng để vẽ biểu đồ đường. mode='lines+markers' giúp vẽ cả đường và các điểm đánh dấu trên đó.\n",
    "- fig.update_layout(): Cập nhật các thông số như tiêu đề và nhãn trục.\n",
    "\n",
    "**7.2.2 Biểu đồ cột (Bar Chart):**\n",
    "\n",
    "- Biểu đồ cột giúp bạn so sánh giá trị giữa các danh mục."
   ]
  },
  {
   "cell_type": "code",
   "execution_count": null,
   "metadata": {
    "vscode": {
     "languageId": "plaintext"
    }
   },
   "outputs": [],
   "source": [
    "import plotly.graph_objects as go\n",
    "\n",
    "fig = go.Figure(data=go.Bar(x=['A', 'B', 'C'], y=[10, 20, 15]))\n",
    "fig.update_layout(title=\"Biểu đồ Cột\", xaxis_title=\"Danh mục\", yaxis_title=\"Giá trị\")\n",
    "fig.write_image(\"chart.png\")\n",
    "\n",
    "from IPython.display import Image\n",
    "Image(\"chart.png\")\n"
   ]
  },
  {
   "cell_type": "markdown",
   "metadata": {},
   "source": [
    "**Chú thích:**\n",
    "\n",
    "- go.Bar(): Dùng để vẽ biểu đồ cột. Trục x là các danh mục và trục y là các giá trị tương ứng.\n",
    "\n",
    "## 7.3 Các Biểu Đồ Tương Tác\n",
    "\n",
    "Plotly nổi bật với khả năng tạo các biểu đồ tương tác, nơi người dùng có thể zoom in/out, di chuyển, và hover để xem thông tin chi tiết.\n",
    "\n",
    "**7.3.1 Biểu đồ phân tán (Scatter Plot):**\n",
    "\n",
    "Biểu đồ phân tán giúp bạn tìm mối quan hệ giữa hai biến."
   ]
  },
  {
   "cell_type": "code",
   "execution_count": null,
   "metadata": {
    "vscode": {
     "languageId": "plaintext"
    }
   },
   "outputs": [],
   "source": [
    "import plotly.express as px\n",
    "\n",
    "df = px.data.iris()\n",
    "fig = px.scatter(df, x=\"sepal_width\", y=\"sepal_length\", color=\"species\",\n",
    "                 title=\"Biểu đồ Phân tán\")\n",
    "fig.write_image(\"chart.png\")\n",
    "\n",
    "from IPython.display import Image\n",
    "Image(\"chart.png\")\n"
   ]
  },
  {
   "cell_type": "markdown",
   "metadata": {},
   "source": [
    "**Chú thích:**\n",
    "\n",
    "- px.scatter(): Dùng để tạo biểu đồ phân tán, trong đó các điểm được tô màu theo từng nhóm (species).\n",
    "\n",
    "**7.3.2 Biểu đồ hộp (Box Plot):**\n",
    "\n",
    "Biểu đồ hộp giúp bạn quan sát sự phân bố của dữ liệu và phát hiện các giá trị ngoại lai."
   ]
  },
  {
   "cell_type": "code",
   "execution_count": null,
   "metadata": {
    "vscode": {
     "languageId": "plaintext"
    }
   },
   "outputs": [],
   "source": [
    "fig = px.box(df, x=\"species\", y=\"sepal_length\", color=\"species\",\n",
    "             title=\"Biểu đồ Hộp\")\n",
    "fig.write_image(\"chart.png\")\n",
    "\n",
    "from IPython.display import Image\n",
    "Image(\"chart.png\")\n"
   ]
  },
  {
   "cell_type": "markdown",
   "metadata": {},
   "source": [
    "**Chú thích:**\n",
    "\n",
    "- px.box(): Tạo biểu đồ hộp cho dữ liệu, cho thấy các phần tử cơ bản như trung vị, phần tư, và giá trị ngoại lai.\n",
    "\n",
    "## 7.4 Tùy chỉnh Biểu Đồ\n",
    "\n",
    "**Thay đổi màu sắc, kích thước, và kiểu dáng**\n",
    "\n",
    "Plotly cho phép bạn dễ dàng tùy chỉnh các yếu tố của biểu đồ như màu sắc, kích thước, và kiểu dáng."
   ]
  },
  {
   "cell_type": "code",
   "execution_count": null,
   "metadata": {
    "vscode": {
     "languageId": "plaintext"
    }
   },
   "outputs": [],
   "source": [
    "fig.update_layout(\n",
    "    title=\"Tùy chỉnh Biểu đồ\",\n",
    "    font=dict(size=14, color=\"darkblue\"),\n",
    "    plot_bgcolor=\"lightgray\"\n",
    ")\n",
    "fig.write_image(\"chart.png\")\n",
    "\n",
    "from IPython.display import Image\n",
    "Image(\"chart.png\")"
   ]
  },
  {
   "cell_type": "markdown",
   "metadata": {},
   "source": [
    "**Chú thích:**\n",
    "- update_layout(): Tùy chỉnh giao diện của biểu đồ, bao gồm màu sắc nền, phông chữ, và tiêu đề.\n",
    "\n",
    "## 7.5 Tạo Biểu Đồ Nâng Cao\n",
    "\n",
    "Plotly cũng hỗ trợ các loại biểu đồ nâng cao, ví dụ như biểu đồ bản đồ và biểu đồ 3D.\n",
    "\n",
    "**7.5.1 Biểu đồ bản đồ (Choropleth Map):**\n",
    "\n",
    "Biểu đồ bản đồ giúp bạn trực quan hóa dữ liệu theo vị trí địa lý.\n"
   ]
  },
  {
   "cell_type": "code",
   "execution_count": null,
   "metadata": {
    "vscode": {
     "languageId": "plaintext"
    }
   },
   "outputs": [],
   "source": [
    "fig = px.choropleth(px.data.gapminder(),\n",
    "                    locations=\"iso_alpha\",\n",
    "                    color=\"gdpPercap\",\n",
    "                    hover_name=\"country\",\n",
    "                    animation_frame=\"year\",\n",
    "                    title=\"Biểu đồ Bản đồ\")\n",
    "fig.write_image(\"chart.png\")\n",
    "\n",
    "from IPython.display import Image\n",
    "Image(\"chart.png\")"
   ]
  },
  {
   "cell_type": "markdown",
   "metadata": {},
   "source": [
    "**Chú thích:**\n",
    "\n",
    "- px.choropleth(): Tạo biểu đồ bản đồ, trong đó các quốc gia được tô màu theo GDP.\n",
    "\n",
    "**7.5.2 Biểu đồ 3D (3D Scatter):**\n",
    "\n",
    "Biểu đồ 3D giúp bạn quan sát mối quan hệ giữa ba biến."
   ]
  },
  {
   "cell_type": "code",
   "execution_count": null,
   "metadata": {
    "vscode": {
     "languageId": "plaintext"
    }
   },
   "outputs": [],
   "source": [
    "fig = px.scatter_3d(df, x=\"sepal_length\", y=\"sepal_width\", z=\"petal_length\",\n",
    "                    color=\"species\", title=\"Biểu đồ 3D\")\n",
    "fig.write_image(\"chart.png\")\n",
    "\n",
    "from IPython.display import Image\n",
    "Image(\"chart.png\")"
   ]
  },
  {
   "cell_type": "markdown",
   "metadata": {},
   "source": [
    "**Chú thích:**\n",
    "\n",
    "- px.scatter_3d(): Tạo biểu đồ phân tán 3D với ba trục không gian.\n",
    "\n",
    "## 7.6 Xuất và Chia Sẻ Biểu Đồ\n",
    "\n",
    "**Lưu biểu đồ dưới dạng HTML:**\n",
    "\n",
    "- Lưu biểu đồ dưới dạng ảnh\n",
    "\n",
    "```python\n",
    "fig.write_image(\"chart.png\")\n",
    "```\n",
    "\n",
    "- Hiển thị trong Jupyter Book\n",
    "\n",
    "```python\n",
    "from IPython.display import Image\n",
    "Image(\"chart.png\")\n",
    "```\n",
    "## 7.7 Các Ví Dụ Thực Tế\n",
    "\n",
    "- Phân tích dữ liệu doanh thu bán hàng.\n",
    "- Theo dõi dữ liệu môi trường.\n",
    "- Trực quan hóa dữ liệu thống kê trong lĩnh vực y tế.\n",
    "\n",
    "## 7.8 Tài liệu tham khảo\n",
    "\n",
    "- Liệt kê các tài liệu tham khảo:\n",
    "- [Trang chủ Plotly](https://plotly.com/) \n",
    "- Tài liệu Python chính thức của Plotly.\n",
    "\n",
    "## 7.9 Tổng kết chương 7\n",
    "\n",
    "**Nội dung**:Trong chương 7 này chúng ta đã làm biểu đồ từ cơ bản đến nâng cao chỉ với những đoạn code đơn giản, trong chương 8 chúng ta sẽ đến các Kỹ thuật Trực quan hóa Nâng cao."
   ]
  }
 ],
 "metadata": {
  "language_info": {
   "name": "python"
  }
 },
 "nbformat": 4,
 "nbformat_minor": 2
}
