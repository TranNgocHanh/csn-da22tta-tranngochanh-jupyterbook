{
 "cells": [
  {
   "cell_type": "markdown",
   "metadata": {},
   "source": [
    "# Chương 8: Các Kỹ thuật Trực quan hóa Nâng cao\n",
    "## Các Kỹ thuật Trực quan hóa Nâng cao\n",
    "Chương này sẽ giúp bạn tìm hiểu các kỹ thuật trực quan hóa nâng cao, cho phép khai thác sâu hơn các công cụ và phương pháp để phân tích và hiển thị dữ liệu phức tạp. Nội dung của chương được chia thành các phần sau:\n",
    "\n",
    "\n",
    "## 8.1 Giới thiệu về Kỹ thuật Trực quan hóa Nâng cao\n",
    "\n",
    "**Mục tiêu**: Hiểu lý do và bối cảnh sử dụng các kỹ thuật trực quan hóa nâng cao.\n",
    "\n",
    "**Lý thuyết**:\n",
    "\n",
    "- Trực quan hóa nâng cao giúp ta phân tích các dữ liệu lớn và phức tạp, từ đó nhận diện các mối quan hệ, xu hướng hoặc bất thường mà các phương pháp phân tích truyền thống không thể làm được.\n",
    "\n",
    "- Các công cụ và thư viện như Plotly, Seaborn, Bokeh, Dash rất thích hợp cho việc tạo ra các đồ thị nâng cao với khả năng tương tác và tính linh hoạt cao.\n",
    "\n",
    "- Các loại đồ thị nâng cao bao gồm các đồ thị 3D, Heatmaps, và Network Graphs. Những công cụ này giúp hiển thị các mối quan hệ trong dữ liệu từ nhiều góc độ khác nhau.\n",
    "\n",
    "## 8.2 Trực quan hóa Dữ liệu 3D\n",
    "\n",
    "**Ứng dụng**:Biểu đồ 3D giúp hiển thị các mối quan hệ giữa ba hoặc nhiều biến số. Đây là một công cụ quan trọng khi bạn cần phân tích các dữ liệu không gian hoặc mối quan hệ đa chiều.\n",
    "\n",
    "**Công cụ sử dụng**: Plotly, Matplotlib (Axes 3D).\n",
    "\n",
    "**Ví dụ mã code:**\n"
   ]
  },
  {
   "cell_type": "code",
   "execution_count": null,
   "metadata": {
    "vscode": {
     "languageId": "plaintext"
    }
   },
   "outputs": [],
   "source": [
    "import plotly.graph_objects as go\n",
    "\n",
    "x = [1, 2, 3, 4, 5]\n",
    "y = [10, 20, 15, 25, 30]\n",
    "z = [5, 15, 10, 20, 25]\n",
    "\n",
    "fig = go.Figure(data=[go.Scatter3d(x=x, y=y, z=z, mode='markers', \n",
    "                                   marker=dict(size=8, color=z, colorscale='Viridis'))])\n",
    "fig.update_layout(title=\"Biểu đồ 3D\", scene=dict(xaxis_title=\"X-axis\", yaxis_title=\"Y-axis\", zaxis_title=\"Z-axis\"))\n",
    "fig.write_image(\"chart.png\")\n",
    "\n",
    "from IPython.display import Image\n",
    "Image(\"chart.png\")\n"
   ]
  },
  {
   "cell_type": "markdown",
   "metadata": {},
   "source": [
    "### 8.3 Heatmaps và Biểu đồ Ma trận\n",
    "\n",
    "**Ứng dụng**:  Heatmaps rất hữu ích trong việc phân tích mối tương quan giữa các biến số trong dữ liệu ma trận, ví dụ như các dữ liệu hành vi người dùng hoặc số liệu kinh tế theo tháng, năm.\n",
    "\n",
    "**Công cụ sử dụng**: Seaborn, Plotly.\n",
    "\n",
    "**Ví dụ mã code**:"
   ]
  },
  {
   "cell_type": "code",
   "execution_count": null,
   "metadata": {
    "vscode": {
     "languageId": "plaintext"
    }
   },
   "outputs": [],
   "source": [
    "import seaborn as sns\n",
    "import matplotlib.pyplot as plt\n",
    "from IPython.display import Image\n",
    "\n",
    "# Tải dữ liệu và tạo bảng pivot\n",
    "data = sns.load_dataset(\"flights\")\n",
    "pivot_table = data.pivot(index=\"month\", columns=\"year\", values=\"passengers\")\n",
    "\n",
    "# Tạo heatmap\n",
    "sns.heatmap(pivot_table, annot=True, fmt=\"d\", cmap=\"YlGnBu\")\n",
    "plt.title(\"Heatmap Số lượng hành khách theo năm và tháng\")\n",
    "\n",
    "# Lưu biểu đồ dưới dạng hình ảnh\n",
    "plt.savefig(\"chart.png\")\n",
    "\n",
    "# Hiển thị ảnh đã lưu\n",
    "Image(\"chart.png\")\n"
   ]
  },
  {
   "cell_type": "markdown",
   "metadata": {},
   "source": [
    "## 8.4 Network Graphs (Biểu đồ Mạng)\n",
    "\n",
    "**Ứng dụng**: Biểu đồ mạng dùng để thể hiện các mối liên kết hoặc mạng lưới, ví dụ như mối quan hệ trong mạng xã hội hoặc trong các hệ thống dữ liệu phức tạp.\n",
    "\n",
    "**Công cụ sử dụng**: NetworkX, Plotly.\n",
    "\n",
    "**Ví dụ mã code**:"
   ]
  },
  {
   "cell_type": "code",
   "execution_count": null,
   "metadata": {
    "vscode": {
     "languageId": "plaintext"
    }
   },
   "outputs": [],
   "source": [
    "import networkx as nx\n",
    "import matplotlib.pyplot as plt\n",
    "\n",
    "G = nx.karate_club_graph()\n",
    "nx.draw(G, with_labels=True, node_color='skyblue', node_size=600, edge_color='gray')\n",
    "plt.title(\"Network Graph - Karate Club\")\n",
    "fig.write_image(\"chart.png\")\n",
    "\n",
    "from IPython.display import Image\n",
    "Image(\"chart.png\")\n"
   ]
  },
  {
   "cell_type": "markdown",
   "metadata": {},
   "source": [
    "## 8.5 Tùy chỉnh và Kết hợp Biểu đồ\n",
    "\n",
    "**Ứng dụng**: Kết hợp các loại biểu đồ khác nhau trong cùng một hình giúp bạn phân tích dữ liệu từ nhiều góc độ. Ví dụ: kết hợp biểu đồ đường và biểu đồ cột để minh họa dữ liệu theo danh mục và theo thời gian\n",
    "\n",
    "**Ví dụ mã code**:"
   ]
  },
  {
   "cell_type": "code",
   "execution_count": null,
   "metadata": {
    "vscode": {
     "languageId": "plaintext"
    }
   },
   "outputs": [],
   "source": [
    "import plotly.graph_objects as go\n",
    "\n",
    "fig = go.Figure()\n",
    "fig.add_trace(go.Bar(x=[\"A\", \"B\", \"C\"], y=[10, 20, 15], name=\"Bar\"))\n",
    "fig.add_trace(go.Scatter(x=[\"A\", \"B\", \"C\"], y=[5, 25, 10], mode=\"lines+markers\", name=\"Line\"))\n",
    "\n",
    "fig.update_layout(title=\"Kết hợp Biểu đồ\", xaxis_title=\"Category\", yaxis_title=\"Value\")\n",
    "fig.write_image(\"chart.png\")\n",
    "\n",
    "from IPython.display import Image\n",
    "Image(\"chart.png\")\n"
   ]
  },
  {
   "cell_type": "markdown",
   "metadata": {},
   "source": [
    "## 8.6 Lưu trữ và Chia sẻ Biểu đồ\n",
    "\n",
    "**Lưu trữ biểu đồ**: Biểu đồ có thể được lưu dưới các định dạng phổ biến như PNG, HTML, PDF hoặc SVG, giúp bạn dễ dàng chia sẻ hoặc nhúng vào các báo cáo, trang web, hoặc tài liệu.\n",
    "\n",
    "**Chia sẻ trên nền tảng web**:\n",
    "\n",
    "Plotly cung cấp khả năng chia sẻ biểu đồ trực tuyến, cho phép nhúng biểu đồ vào các website hoặc chia sẻ qua các nền tảng như Dash.\n",
    "\n",
    "## 8.7 Bài tập Thực hành\n",
    "\n",
    "**Bài tập 1**: Tạo một biểu đồ 3D minh họa dữ liệu thời gian.\n",
    "\n",
    "**Bài tập 2**: Tạo heatmap thể hiện mối tương quan giữa các biến số trong bộ dữ liệu.\n",
    "\n",
    "**Bài tập 3**: Xây dựng một Dashboard nhỏ kết hợp hai biểu đồ (cột và đường).\n",
    "\n",
    "## 8.8 Tổng kết chương 8\n",
    "\n",
    "- **Nội dung**:Trong chương 8 này, chúng ta đã khám phá các kỹ thuật trực quan hóa nâng cao, bao gồm biểu đồ 3D, heatmaps và biểu đồ mạng, cùng với cách tùy chỉnh và kết hợp các biểu đồ để phân tích dữ liệu phức tạp. Chương 9 sẽ tiếp tục với việc tích hợp các kỹ thuật này vào các bài tập thực tế, giúp bạn hiểu rõ hơn cách áp dụng trực quan hóa vào các bài toán thực tế."
   ]
  }
 ],
 "metadata": {
  "language_info": {
   "name": "python"
  }
 },
 "nbformat": 4,
 "nbformat_minor": 2
}
