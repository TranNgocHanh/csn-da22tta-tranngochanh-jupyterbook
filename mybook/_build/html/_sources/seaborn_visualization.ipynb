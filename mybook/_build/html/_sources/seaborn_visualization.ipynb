{
 "cells": [
  {
   "cell_type": "markdown",
   "metadata": {},
   "source": [
    "# Chương 6: Trực quan hóa Dữ liệu với Seaborn\n",
    "## Trực quan hóa Dữ liệu với Seaborn\n",
    "Seaborn là một thư viện trực quan hóa dữ liệu mạnh mẽ, được xây dựng trên Matplotlib. Thư viện này cung cấp các biểu đồ nâng cao và giao diện đơn giản để làm việc với dữ liệu dạng bảng, đặc biệt khi tích hợp với pandas.\n",
    "\n",
    "## 6.1 Giới thiệu về Seaborn\n",
    "**6.1.1 Cài đặt Seaborn**\n",
    "\n",
    "Để cài đặt Seaborn, sử dụng lệnh:\n",
    "```python\n",
    "pip install seaborn\n",
    "```\n",
    "**6.1.2 Nhập thư viện và dữ liệu mẫu**\n",
    "\n",
    "Seaborn đi kèm với nhiều tập dữ liệu mẫu (datasets). Bạn có thể tải và sử dụng chúng để thực hành.\n",
    "```python\n",
    "import seaborn as sns\n",
    "import matplotlib.pyplot as plt\n",
    "\n",
    "# Tải dữ liệu mẫu\n",
    "tips = sns.load_dataset(\"tips\")\n",
    "print(tips.head())\n",
    "```\n",
    "```python\n",
    "import plotly.io as pio\n",
    "pio.renderers.default = 'vscode'\n",
    "```\n",
    "## 6.2 Các biểu đồ cơ bản với Seaborn\n",
    "**6.2.1 Biểu đồ cột và phân phối**\n",
    "Biểu đồ cột:"
   ]
  },
  {
   "cell_type": "code",
   "execution_count": null,
   "metadata": {
    "vscode": {
     "languageId": "plaintext"
    }
   },
   "outputs": [],
   "source": [
    "import seaborn as sns\n",
    "import matplotlib.pyplot as plt\n",
    "\n",
    "# Dữ liệu\n",
    "data = {\n",
    "    \"Category\": [\"A\", \"B\", \"C\"],\n",
    "    \"Values\": [1, 3, 2]\n",
    "}\n",
    "\n",
    "# Tạo DataFrame từ dữ liệu\n",
    "import pandas as pd\n",
    "df = pd.DataFrame(data)\n",
    "\n",
    "# Vẽ biểu đồ cột\n",
    "sns.barplot(data=df, x=\"Category\", y=\"Values\", palette=\"viridis\")\n",
    "plt.title('Biểu đồ Cột với Seaborn')\n",
    "plt.show()\n"
   ]
  },
  {
   "cell_type": "markdown",
   "metadata": {},
   "source": [
    "Biểu đồ phân phối:"
   ]
  },
  {
   "cell_type": "code",
   "execution_count": null,
   "metadata": {
    "vscode": {
     "languageId": "plaintext"
    }
   },
   "outputs": [],
   "source": [
    "import seaborn as sns\n",
    "import matplotlib.pyplot as plt\n",
    "\n",
    "tips = sns.load_dataset(\"tips\")\n",
    "\n",
    "sns.histplot(tips['total_bill'], kde=True, color='blue')\n",
    "plt.title(\"Histogram with KDE\")\n",
    "plt.show()\n"
   ]
  },
  {
   "cell_type": "markdown",
   "metadata": {},
   "source": [
    "**Giải thích:**\n",
    "\n",
    "- Biểu đồ hiển thị phân phối hóa đơn total_bill trong tập dữ liệu. Đường KDE cho thấy mật độ xác suất của dữ liệu."
   ]
  },
  {
   "cell_type": "markdown",
   "metadata": {},
   "source": [
    "**6.2.2 Biểu đồ hộp (Box Plot)**\n",
    "Dùng để hiển thị phân phối và phát hiện giá trị ngoại lai."
   ]
  },
  {
   "cell_type": "code",
   "execution_count": null,
   "metadata": {
    "vscode": {
     "languageId": "plaintext"
    }
   },
   "outputs": [],
   "source": [
    "sns.boxplot(x=\"day\", y=\"total_bill\", data=tips, hue=\"day\", palette=\"coolwarm\", dodge=False)\n",
    "plt.legend([], [], frameon=False)  # Ẩn legend nếu không cần\n",
    "plt.title(\"Box Plot\")\n",
    "plt.show()"
   ]
  },
  {
   "cell_type": "markdown",
   "metadata": {},
   "source": [
    "**Giải thích:** \n",
    "\n",
    "- Biểu đồ cho thấy phân phối giá trị total_bill theo các ngày trong tuần (day). Các giá trị ngoài dải (outliers) được biểu thị bằng các dấu chấm."
   ]
  },
  {
   "cell_type": "markdown",
   "metadata": {},
   "source": [
    "**6.2.3 Biểu đồ tán xạ (Scatter Plot)**\n",
    "Dùng để hiển thị mối quan hệ giữa hai biến."
   ]
  },
  {
   "cell_type": "code",
   "execution_count": null,
   "metadata": {
    "vscode": {
     "languageId": "plaintext"
    }
   },
   "outputs": [],
   "source": [
    "sns.scatterplot(x=\"total_bill\", y=\"tip\", hue=\"day\", data=tips, palette=\"viridis\")\n",
    "plt.title(\"Scatter Plot\")\n",
    "plt.show()"
   ]
  },
  {
   "cell_type": "markdown",
   "metadata": {},
   "source": [
    "**Giải thích:**\n",
    "\n",
    "-  Biểu đồ này cho thấy mối quan hệ giữa tổng hóa đơn (total_bill) và tiền tip (tip) theo từng ngày. Các màu sắc khác nhau đại diện cho các ngày trong tuần."
   ]
  },
  {
   "cell_type": "markdown",
   "metadata": {},
   "source": [
    "**6.2.4 Biểu đồ thanh (Bar Plot)**\n",
    "Dùng để hiển thị giá trị trung bình của một biến theo nhóm."
   ]
  },
  {
   "cell_type": "code",
   "execution_count": null,
   "metadata": {
    "vscode": {
     "languageId": "plaintext"
    }
   },
   "outputs": [],
   "source": [
    "sns.barplot(x=\"day\", y=\"total_bill\", data=tips, errorbar=None, palette=\"muted\", hue=\"day\", dodge=False)\n",
    "plt.title(\"Bar Plot\")\n",
    "plt.show() "
   ]
  },
  {
   "cell_type": "markdown",
   "metadata": {},
   "source": [
    "**Giải thích:** \n",
    "\n",
    "- Biểu đồ này cho thấy tổng hóa đơn trung bình (total_bill) theo từng ngày trong tuần. Các thanh đại diện cho giá trị trung bình của từng nhóm."
   ]
  },
  {
   "cell_type": "markdown",
   "metadata": {},
   "source": [
    "## 6.3 Các biểu đồ nâng cao\n",
    "**6.3.1 Biểu đồ ma trận tương quan (Heatmap)**\n",
    "Dùng để trực quan hóa mối tương quan giữa các biến số."
   ]
  },
  {
   "cell_type": "code",
   "execution_count": null,
   "metadata": {
    "vscode": {
     "languageId": "plaintext"
    }
   },
   "outputs": [],
   "source": [
    "import seaborn as sns\n",
    "import matplotlib.pyplot as plt\n",
    "\n",
    "tips = sns.load_dataset(\"tips\")\n",
    "\n",
    "numeric_tips = tips.select_dtypes(include='number')\n",
    "\n",
    "correlation = numeric_tips.corr()\n",
    "\n",
    "sns.heatmap(correlation, annot=True, cmap=\"coolwarm\", fmt=\".2f\")\n",
    "plt.title(\"Correlation Heatmap\")\n",
    "plt.show()"
   ]
  },
  {
   "cell_type": "markdown",
   "metadata": {},
   "source": [
    "**Giải thích:** \n",
    "\n",
    "- Biểu đồ này hiển thị mối quan hệ tuyến tính giữa các cặp biến số trong dữ liệu. Giá trị gần 1 hoặc -1 cho thấy mối tương quan mạnh, trong khi giá trị gần 0 cho thấy mối tương quan yếu."
   ]
  },
  {
   "cell_type": "markdown",
   "metadata": {},
   "source": [
    "**6.3.2 Biểu đồ ghép (Pair Plot)**\n",
    "Hiển thị mối quan hệ giữa tất cả các cặp biến."
   ]
  },
  {
   "cell_type": "code",
   "execution_count": null,
   "metadata": {
    "vscode": {
     "languageId": "plaintext"
    }
   },
   "outputs": [],
   "source": [
    "sns.pairplot(tips, hue=\"day\", palette=\"pastel\")\n",
    "plt.show()"
   ]
  },
  {
   "cell_type": "markdown",
   "metadata": {},
   "source": [
    "**Giải thích:** \n",
    "\n",
    "- Mỗi ô trong biểu đồ đại diện cho một cặp biến số. Đường chéo chính chứa các biểu đồ phân phối, còn các ô khác là các biểu đồ tán xạ giữa hai biến.\n"
   ]
  },
  {
   "cell_type": "markdown",
   "metadata": {},
   "source": [
    "**6.3.3 Biểu đồ phân phối dạng khớp (Joint Plot)**\n",
    "Hiển thị mối quan hệ giữa hai biến cùng với biểu đồ phân phối của chúng."
   ]
  },
  {
   "cell_type": "code",
   "execution_count": null,
   "metadata": {
    "vscode": {
     "languageId": "plaintext"
    }
   },
   "outputs": [],
   "source": [
    "sns.jointplot(x=\"total_bill\", y=\"tip\", data=tips, kind=\"reg\", color=\"purple\")\n",
    "plt.show()"
   ]
  },
  {
   "cell_type": "markdown",
   "metadata": {},
   "source": [
    "**Giải thích:**\n",
    "\n",
    "- Biểu đồ này không chỉ hiển thị mối quan hệ giữa hai biến mà còn hiển thị các phân phối biên (marginal distributions). Đường hồi quy (regression) chỉ ra xu hướng tổng quát.\n"
   ]
  },
  {
   "cell_type": "markdown",
   "metadata": {},
   "source": [
    "## 6.4 Tùy chỉnh và cài đặt giao diện\n",
    "**6.4.1 Tùy chỉnh màu sắc**\n",
    "Seaborn cung cấp các bảng màu sẵn có."
   ]
  },
  {
   "cell_type": "code",
   "execution_count": null,
   "metadata": {
    "vscode": {
     "languageId": "plaintext"
    }
   },
   "outputs": [],
   "source": [
    "sns.set_palette(\"dark\")\n",
    "sns.scatterplot(x=\"total_bill\", y=\"tip\", data=tips)\n",
    "plt.show()"
   ]
  },
  {
   "cell_type": "markdown",
   "metadata": {},
   "source": [
    "**6.4.2 Thay đổi phong cách**\n",
    "Bạn có thể thay đổi phong cách để biểu đồ trông chuyên nghiệp hơn."
   ]
  },
  {
   "cell_type": "code",
   "execution_count": null,
   "metadata": {
    "vscode": {
     "languageId": "plaintext"
    }
   },
   "outputs": [],
   "source": [
    "sns.set_style(\"whitegrid\")\n",
    "sns.boxplot(x=\"day\", y=\"total_bill\", data=tips)\n",
    "plt.show()"
   ]
  },
  {
   "cell_type": "markdown",
   "metadata": {},
   "source": [
    "**6.4.3 Điều chỉnh kích thước biểu đồ**"
   ]
  },
  {
   "cell_type": "code",
   "execution_count": null,
   "metadata": {
    "vscode": {
     "languageId": "plaintext"
    }
   },
   "outputs": [],
   "source": [
    "plt.figure(figsize=(10, 6))\n",
    "sns.barplot(x=\"day\", y=\"total_bill\", data=tips)\n",
    "plt.show()"
   ]
  },
  {
   "cell_type": "markdown",
   "metadata": {},
   "source": [
    "## 6.5 Lưu biểu đồ\n",
    "Seaborn hoạt động trên nền Matplotlib, nên bạn có thể lưu biểu đồ giống như Matplotlib."
   ]
  },
  {
   "cell_type": "code",
   "execution_count": null,
   "metadata": {
    "vscode": {
     "languageId": "plaintext"
    }
   },
   "outputs": [],
   "source": [
    "sns.scatterplot(x=\"total_bill\", y=\"tip\", data=tips)\n",
    "plt.savefig(\"scatter_plot.png\", dpi=300, bbox_inches=\"tight\")\n",
    "plt.show()"
   ]
  },
  {
   "cell_type": "markdown",
   "metadata": {},
   "source": [
    "## 6.6 Thực hành\n",
    "\n",
    "**Bài tập 1:**\n",
    "Sử dụng tập dữ liệu tips để tạo:\n",
    "- Biểu đồ phân phối với sns.histplot.\n",
    "- Biểu đồ hộp nhóm theo day.\n",
    "\n",
    "**Bài tập 2:**\n",
    "Tải dữ liệu mẫu iris và tạo:\n",
    "- Biểu đồ ghép (Pair Plot) với sns.pairplot.\n",
    "- Biểu đồ nhiệt mối tương quan giữa các biến.\n",
    "\n",
    "**Bài tập 3:**\n",
    "Với một tập dữ liệu của riêng bạn, hãy:\n",
    "- Tạo biểu đồ thanh hiển thị giá trị trung bình của một biến theo nhóm.\n",
    "- Tùy chỉnh màu sắc và phong cách biểu đồ.\n",
    "\n",
    "## 6.7 Tổng kết chương 6\n",
    "**Nội dung**:Trong chương 6 đã cung cấp cách sử dụng Seaborn để trực quan hóa dữ liệu một cách đơn giản nhưng chuyên nghiệp. Trong chương 7 bạn sẽ học cách làm việc với Plotly để tạo các biểu đồ tương tác mạnh mẽ.\n",
    "\n"
   ]
  }
 ],
 "metadata": {
  "language_info": {
   "name": "python"
  }
 },
 "nbformat": 4,
 "nbformat_minor": 2
}
