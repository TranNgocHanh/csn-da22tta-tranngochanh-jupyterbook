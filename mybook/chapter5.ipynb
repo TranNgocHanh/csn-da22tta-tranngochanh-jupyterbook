{
 "cells": [
  {
   "cell_type": "markdown",
   "metadata": {},
   "source": [
    "# Chương 5: Trực quan hóa Dữ liệu với Matplotlib\n",
    "\n",
    "## Trực quan hóa Dữ liệu với Matplotlib\n",
    "Matplotlib là một thư viện mạnh mẽ và phổ biến để trực quan hóa dữ liệu trong Python. Nó cung cấp các công cụ linh hoạt để tạo ra các loại biểu đồ khác nhau như biểu đồ đường, cột, tán xạ, và nhiều loại khác. Trong chương này, bạn sẽ học cách sử dụng Matplotlib để trực quan hóa dữ liệu.\n",
    "\n",
    "## 5.1 Giới thiệu về Matplotlib\n",
    "\n",
    "**5.1.1 Cài đặt Matplotlib**\n",
    "\n",
    "Để cài đặt Matplotlib, sử dụng lệnh:\n",
    "\n",
    "```python\n",
    "pip install matplotlib\n",
    "```\n",
    "\n",
    "**5.1.2 Nhập Matplotlib và cấu trúc cơ bản**\n",
    "\n",
    "- Matplotlib được tổ chức theo hai cách sử dụng:\n",
    "\n",
    "**Pyplot API**: Giao diện đơn giản và phổ biến.\n",
    "**Object-Oriented API**: Linh hoạt hơn, cho phép tùy chỉnh sâu.\n",
    "Biểu đồ cơ bản đường thẳngthẳng"
   ]
  },
  {
   "cell_type": "code",
   "execution_count": null,
   "metadata": {
    "vscode": {
     "languageId": "plaintext"
    }
   },
   "outputs": [],
   "source": [
    "import matplotlib.pyplot as plt\n",
    "\n",
    "# Dữ liệu\n",
    "x = [1, 2, 3]\n",
    "y = [4, 5, 6]\n",
    "\n",
    "# Vẽ biểu đồ\n",
    "plt.plot(x, y, marker='o', linestyle='-', color='blue', label='Line Plot')\n",
    "plt.title('Biểu đồ Đường thẳng với Matplotlib')\n",
    "plt.xlabel('X-axis')\n",
    "plt.ylabel('Y-axis')\n",
    "plt.legend()\n",
    "plt.grid(True)\n",
    "plt.show()"
   ]
  },
  {
   "cell_type": "markdown",
   "metadata": {},
   "source": [
    "**Chú thích:**\n",
    "Thêm dấu chấm tròn (marker='o') tại các điểm dữ liệu."
   ]
  },
  {
   "cell_type": "markdown",
   "metadata": {},
   "source": [
    "Ví dụ cơ bản với Pyplot:"
   ]
  },
  {
   "cell_type": "code",
   "execution_count": null,
   "metadata": {
    "vscode": {
     "languageId": "plaintext"
    }
   },
   "outputs": [],
   "source": [
    "import matplotlib.pyplot as plt\n",
    "\n",
    "# Tạo biểu đồ đường\n",
    "x = [1, 2, 3, 4]\n",
    "y = [10, 20, 25, 30]\n",
    "plt.plot(x, y)\n",
    "plt.title(\"Line Chart Example\")\n",
    "plt.xlabel(\"X-axis\")\n",
    "plt.ylabel(\"Y-axis\")\n",
    "plt.show()\n"
   ]
  },
  {
   "cell_type": "markdown",
   "metadata": {},
   "source": [
    "**Chú thích:**\n",
    "\n",
    "- plt.plot(x, y) vẽ một đường nối giữa các điểm (x, y).\n",
    "- plt.title và plt.xlabel, plt.ylabel thêm tiêu đề và nhãn trục.\n"
   ]
  },
  {
   "cell_type": "markdown",
   "metadata": {},
   "source": [
    "## 5.2 Biểu đồ cơ bản với Matplotlib\n",
    "**5.2.1 Biểu đồ đường (Line Chart)**\n",
    "\n",
    "Dùng để hiển thị xu hướng theo thời gian hoặc tuần tự."
   ]
  },
  {
   "cell_type": "code",
   "execution_count": null,
   "metadata": {
    "vscode": {
     "languageId": "plaintext"
    }
   },
   "outputs": [],
   "source": [
    "plt.plot(x, y, color='blue', linestyle='--', marker='o')\n",
    "plt.title(\"Line Chart\")\n",
    "plt.xlabel(\"X-axis\")\n",
    "plt.ylabel(\"Y-axis\")\n",
    "plt.grid(True)\n",
    "plt.show()\n"
   ]
  },
  {
   "cell_type": "markdown",
   "metadata": {},
   "source": [
    "**Chú thích:**\n",
    "\n",
    "- color='blue': Đặt màu xanh cho đường.\n",
    "- linestyle='--': Kẻ đường nét đứt.\n",
    "- marker='o': Thêm các điểm đánh dấu (marker) trên mỗi điểm dữ liệu.\n",
    "- plt.grid(True): Thêm lưới để biểu đồ dễ đọc hơn."
   ]
  },
  {
   "cell_type": "markdown",
   "metadata": {},
   "source": [
    "**5.2.2 Biểu đồ cột (Bar Chart)**\n",
    "Dùng để so sánh các nhóm."
   ]
  },
  {
   "cell_type": "code",
   "execution_count": null,
   "metadata": {
    "vscode": {
     "languageId": "plaintext"
    }
   },
   "outputs": [],
   "source": [
    "categories = ['A', 'B', 'C', 'D']\n",
    "values = [5, 7, 3, 8]\n",
    "plt.bar(categories, values, color='green')\n",
    "plt.title(\"Bar Chart\")\n",
    "plt.xlabel(\"Categories\")\n",
    "plt.ylabel(\"Values\")\n",
    "plt.show()"
   ]
  },
  {
   "cell_type": "markdown",
   "metadata": {},
   "source": [
    "**Chú thích:**\n",
    "\n",
    "- plt.bar vẽ các cột tương ứng với categories và giá trị values.\n",
    "- color='green' đặt màu xanh lá cây cho các cột."
   ]
  },
  {
   "cell_type": "markdown",
   "metadata": {},
   "source": [
    "**5.2.3 Biểu đồ tán xạ (Scatter Plot)**\n",
    "Dùng để hiển thị mối quan hệ giữa hai biến."
   ]
  },
  {
   "cell_type": "code",
   "execution_count": null,
   "metadata": {
    "vscode": {
     "languageId": "plaintext"
    }
   },
   "outputs": [],
   "source": [
    "x = [5, 7, 8, 10, 11]\n",
    "y = [10, 14, 15, 19, 21]\n",
    "plt.scatter(x, y, color='red')\n",
    "plt.title(\"Scatter Plot\")\n",
    "plt.xlabel(\"X-axis\")\n",
    "plt.ylabel(\"Y-axis\")\n",
    "plt.show()"
   ]
  },
  {
   "cell_type": "markdown",
   "metadata": {},
   "source": [
    "**Chú thích:**\n",
    "\n",
    "- plt.scatter vẽ các điểm rời rạc tương ứng với dữ liệu.\n",
    "- Dùng khi bạn muốn phân tích mối quan hệ giữa hai biến (x, y)."
   ]
  },
  {
   "cell_type": "markdown",
   "metadata": {},
   "source": [
    "**5.2.4 Biểu đồ hình tròn (Pie Chart)**\n",
    "Dùng để biểu diễn tỷ lệ phần trăm của các phần tử."
   ]
  },
  {
   "cell_type": "code",
   "execution_count": null,
   "metadata": {
    "vscode": {
     "languageId": "plaintext"
    }
   },
   "outputs": [],
   "source": [
    "labels = ['A', 'B', 'C', 'D']\n",
    "sizes = [30, 40, 20, 10]\n",
    "plt.pie(sizes, labels=labels, autopct='%1.1f%%', startangle=90)\n",
    "plt.title(\"Pie Chart\")\n",
    "plt.show()"
   ]
  },
  {
   "cell_type": "markdown",
   "metadata": {},
   "source": [
    "**Chú thích:**\n",
    "\n",
    "- autopct='%1.1f%%': Hiển thị tỷ lệ phần trăm trên từng phần tử.\n",
    "- startangle=90: Xoay biểu đồ để bắt đầu từ góc 90 độ."
   ]
  },
  {
   "cell_type": "markdown",
   "metadata": {},
   "source": [
    "## 5.3 Tùy chỉnh biểu đồ\n",
    "**5.3.1 Tùy chỉnh màu sắc và kiểu dáng**"
   ]
  },
  {
   "cell_type": "code",
   "execution_count": null,
   "metadata": {
    "vscode": {
     "languageId": "plaintext"
    }
   },
   "outputs": [],
   "source": [
    "plt.plot(x, y, color='purple', linestyle='-.', marker='s', linewidth=2)\n",
    "plt.title(\"Customized Line Chart\")\n",
    "plt.show()"
   ]
  },
  {
   "cell_type": "markdown",
   "metadata": {},
   "source": [
    "**Chú thích:**\n",
    "\n",
    "- linewidth=2: Đặt độ dày cho đường.\n",
    "- color, linestyle, và marker cho phép tùy chỉnh màu sắc, kiểu đường, và kiểu điểm đánh dấu."
   ]
  },
  {
   "cell_type": "markdown",
   "metadata": {},
   "source": [
    "**5.3.2 Tùy chỉnh kích thước biểu đồ**"
   ]
  },
  {
   "cell_type": "code",
   "execution_count": null,
   "metadata": {
    "vscode": {
     "languageId": "plaintext"
    }
   },
   "outputs": [],
   "source": [
    "plt.figure(figsize=(10, 6))\n",
    "plt.plot(x, y)\n",
    "plt.title(\"Customized Chart\", fontsize=16)\n",
    "plt.show()"
   ]
  },
  {
   "cell_type": "markdown",
   "metadata": {},
   "source": [
    "**Chú thích:**\n",
    "\n",
    "- figsize=(10, 6): Đặt kích thước biểu đồ (chiều ngang 10, chiều cao 6).\n",
    "- fontsize=16: Đặt kích cỡ cho tiêu đề."
   ]
  },
  {
   "cell_type": "markdown",
   "metadata": {},
   "source": [
    "**5.3.3 Thêm chú thích và văn bản**"
   ]
  },
  {
   "cell_type": "code",
   "execution_count": null,
   "metadata": {
    "vscode": {
     "languageId": "plaintext"
    }
   },
   "outputs": [],
   "source": [
    "plt.plot(x, y)\n",
    "plt.text(2, 20, 'Point of Interest', fontsize=12, color='blue')\n",
    "plt.legend(['Line 1'], loc='upper left')\n",
    "plt.show()"
   ]
  },
  {
   "cell_type": "markdown",
   "metadata": {},
   "source": [
    "**Chú thích:**\n",
    "\n",
    "- plt.text: Thêm văn bản tại vị trí chỉ định.\n",
    "- plt.legend: Hiển thị chú giải ở góc trên bên trái."
   ]
  },
  {
   "cell_type": "markdown",
   "metadata": {},
   "source": [
    "## 5.4 Sử dụng Object-Oriented API\n",
    "**5.4.1 Biểu đồ đường với Matplotlib**\n",
    "\n",
    "- Đây là biểu đồ đường API "
   ]
  },
  {
   "cell_type": "code",
   "execution_count": null,
   "metadata": {
    "vscode": {
     "languageId": "plaintext"
    }
   },
   "outputs": [],
   "source": [
    "import matplotlib.pyplot as plt\n",
    "\n",
    "class LineChart:\n",
    "    def __init__(self, title, x_label, y_label):\n",
    "        self.fig, self.ax = plt.subplots()\n",
    "        self.ax.set_title(title)\n",
    "        self.ax.set_xlabel(x_label)\n",
    "        self.ax.set_ylabel(y_label)\n",
    "    def plot(self, x_data, y_data, label):\n",
    "        self.ax.plot(x_data, y_data, label=label)\n",
    "        self.ax.legend()\n",
    "    def show(self):\n",
    "        plt.show()\n",
    "if __name__ == \"__main__\":\n",
    "    # Sample data\n",
    "    x = [1, 2, 3, 4, 5]\n",
    "    y = [2, 3, 5, 7, 11]\n",
    "    chart = LineChart(\"Sample Line Chart\", \"X Axis\", \"Y Axis\")\n",
    "    chart.plot(x, y, label=\"Prime Numbers\")\n",
    "    chart.show()"
   ]
  },
  {
   "cell_type": "markdown",
   "metadata": {},
   "source": [
    "**Chú thích:**\n",
    "\n",
    "Lớp LineChart : Lớp này bao gồm chức năng tạo biểu đồ đường.\n",
    "\n",
    "- __init__Phương pháp : Khởi tạo hình và trục, đặt tiêu đề và nhãn cho các trục.\n",
    "- plotPhương pháp : Lấy dữ liệu x và y cùng với nhãn để vẽ đường thẳng trên các trục.\n",
    "- showPhương pháp : Hiển thị biểu đồ.\n",
    "\n",
    "**5.4.2 Thêm phương pháp biểu đồ thanh**"
   ]
  },
  {
   "cell_type": "code",
   "execution_count": null,
   "metadata": {
    "vscode": {
     "languageId": "plaintext"
    }
   },
   "outputs": [],
   "source": [
    "import matplotlib.pyplot as plt\n",
    "\n",
    "class Chart:\n",
    "    def __init__(self, title, x_label, y_label):\n",
    "        self.fig, self.ax = plt.subplots()\n",
    "        self.ax.set_title(title)\n",
    "        self.ax.set_xlabel(x_label)\n",
    "        self.ax.set_ylabel(y_label)\n",
    "    def plot_line(self, x_data, y_data, label):\n",
    "        self.ax.plot(x_data, y_data, label=label)\n",
    "        self.ax.legend()\n",
    "    def plot_bar(self, x_data, y_data, label):\n",
    "        self.ax.bar(x_data, y_data, label=label)\n",
    "        self.ax.legend()\n",
    "\n",
    "    def show(self):\n",
    "        plt.show()\n",
    "if __name__ == \"__main__\":\n",
    "    # Sample data for line chart\n",
    "    x_line = [1, 2, 3, 4, 5]\n",
    "    y_line = [2, 3, 5, 7, 11]\n",
    "    x_bar = ['A', 'B', 'C', 'D', 'E']\n",
    "    y_bar = [5, 7, 3, 4, 6]\n",
    "    chart = Chart(\"Sample Chart\", \"X Axis\", \"Y Axis\")\n",
    "    chart.plot_line(x_line, y_line, label=\"Prime Numbers\")\n",
    "    chart.plot_bar(x_bar, y_bar, label=\"Category Values\")\n",
    "    chart.show()"
   ]
  },
  {
   "cell_type": "markdown",
   "metadata": {},
   "source": [
    "**Chú thích:**\n",
    "Lớp biểu đồ : Lớp này hiện hỗ trợ cả biểu đồ đường và biểu đồ thanh.\n",
    "\n",
    "plot_barPhương pháp : Phương pháp mới này sử dụng dữ liệu x và y cùng với nhãn để tạo biểu đồ thanh trên các trục.\n",
    "Ví dụ sử dụng :\n",
    "\n",
    "- Dữ liệu mẫu được xác định cho cả biểu đồ đường và biểu đồ thanh.\n",
    "- Một thể hiện của Chartđược tạo ra với tiêu đề và nhãn trục.\n",
    "- Phương pháp này plot_lineđược gọi để thêm dữ liệu đường vào biểu đồ.\n",
    "- Phương pháp này plot_barđược gọi để thêm dữ liệu thanh vào cùng một biểu đồ.\n",
    "- Cuối cùng, showphương thức này được gọi để hiển thị biểu đồ kết hợp."
   ]
  },
  {
   "cell_type": "markdown",
   "metadata": {},
   "source": [
    "## 5.5 Trực quan hóa nhiều biểu đồ\n",
    "**5.5.1 Nhiều biểu đồ trong cùng một hình**\n"
   ]
  },
  {
   "cell_type": "code",
   "execution_count": null,
   "metadata": {
    "vscode": {
     "languageId": "plaintext"
    }
   },
   "outputs": [],
   "source": [
    "x = [1, 2, 3, 4]  # Chỉ giữ lại 4 giá trị\n",
    "y1 = [10, 20, 25, 30]\n",
    "y2 = [15, 18, 22, 28]\n",
    "\n",
    "plt.plot(x, y1, label='Line 1')\n",
    "plt.plot(x, y2, label='Line 2', linestyle='--')\n",
    "plt.title(\"Multiple Lines\")\n",
    "plt.legend()\n",
    "plt.show()\n"
   ]
  },
  {
   "cell_type": "markdown",
   "metadata": {},
   "source": [
    "**Chú thích:**\n",
    "\n",
    "- Vẽ nhiều đường trên cùng một biểu đồ, mỗi đường có chú thích riêng."
   ]
  },
  {
   "cell_type": "markdown",
   "metadata": {},
   "source": [
    "**5.5.2 Tạo bố cục nhiều biểu đồ (Subplots)**"
   ]
  },
  {
   "cell_type": "code",
   "execution_count": null,
   "metadata": {
    "vscode": {
     "languageId": "plaintext"
    }
   },
   "outputs": [],
   "source": [
    "x = [1, 2, 3, 4]\n",
    "y = [10, 20, 25, 30]\n",
    "\n",
    "fig, axs = plt.subplots(2, 2, figsize=(10, 8))\n",
    "axs[0, 0].plot(x, y, color='blue')  # Biểu đồ đường\n",
    "axs[0, 0].set_title(\"Plot 1\")\n",
    "\n",
    "categories = ['A', 'B', 'C', 'D']\n",
    "values = [5, 7, 3, 8]\n",
    "axs[0, 1].bar(categories, values, color='green')  # Biểu đồ cột\n",
    "axs[0, 1].set_title(\"Plot 2\")\n",
    "\n",
    "axs[1, 0].scatter(x, y, color='red')  # Biểu đồ tán xạ\n",
    "axs[1, 0].set_title(\"Plot 3\")\n",
    "\n",
    "sizes = [30, 40, 20, 10]\n",
    "labels = ['A', 'B', 'C', 'D']\n",
    "axs[1, 1].pie(sizes, labels=labels, autopct='%1.1f%%')  # Biểu đồ hình tròn\n",
    "axs[1, 1].set_title(\"Plot 4\")\n",
    "\n",
    "plt.tight_layout()\n",
    "plt.show()\n"
   ]
  },
  {
   "cell_type": "markdown",
   "metadata": {},
   "source": [
    "**Chú thích:**\n",
    "\n",
    "- plt.subplots(2, 2): Tạo một bố cục 2x2 chứa 4 biểu đồ."
   ]
  },
  {
   "cell_type": "markdown",
   "metadata": {},
   "source": [
    "## 5.6 Lưu biểu đồ\n",
    "\n",
    "Matplotlib cho phép lưu biểu đồ dưới nhiều định dạng."
   ]
  },
  {
   "cell_type": "code",
   "execution_count": null,
   "metadata": {
    "vscode": {
     "languageId": "plaintext"
    }
   },
   "outputs": [],
   "source": [
    "plt.plot(x, y)\n",
    "plt.savefig(\"line_chart.png\", dpi=300, bbox_inches='tight')\n",
    "plt.show()"
   ]
  },
  {
   "cell_type": "markdown",
   "metadata": {},
   "source": [
    "**Chú thích:**\n",
    "\n",
    "- dpi=300: Tăng độ phân giải cho hình ảnh.\n",
    "- bbox_inches='tight': Đảm bảo hình ảnh không bị cắt khi lưu."
   ]
  },
  {
   "cell_type": "markdown",
   "metadata": {},
   "source": [
    "## 5.7 Thực hành\n",
    "- **Bài tập 1:**\n",
    "Sử dụng dữ liệu doanh số bán hàng hàng tháng để tạo biểu đồ đường và biểu đồ cột.\n",
    "\n",
    "- **Bài tập 2:**\n",
    "Dùng dữ liệu về số lượng học sinh theo từng khoa để tạo biểu đồ hình tròn.\n",
    "\n",
    "- **Bài tập 3:**\n",
    "Tạo một bố cục 2x2, hiển thị 4 biểu đồ khác nhau (đường, cột, tán xạ, hình tròn) dựa trên dữ liệu bạn tự tạo.\n",
    "\n",
    "## 5.8 Tổng kết chương 5\n",
    "\n",
    "**Nội dung**:Trong Chương 5 đã cung cấp nền tảng vững chắc về cách sử dụng Matplotlib để trực quan hóa dữ liệu. Trong chương 6 chúng ta sẽ tiếp tục với Seaborn, một thư viện nâng cao được xây dựng trên Matplotlib."
   ]
  }
 ],
 "metadata": {
  "language_info": {
   "name": "python"
  }
 },
 "nbformat": 4,
 "nbformat_minor": 2
}
